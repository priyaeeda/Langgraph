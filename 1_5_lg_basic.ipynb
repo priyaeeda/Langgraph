{
 "cells": [
  {
   "cell_type": "markdown",
   "metadata": {},
   "source": [
    "This demo will focus on the components of Langgraph:\n",
    "State, Nodes, Edges"
   ]
  },
  {
   "cell_type": "code",
   "execution_count": null,
   "metadata": {},
   "outputs": [],
   "source": [
    "from langgraph.graph import START, StateGraph\n",
    "from IPython.display import Image, display\n",
    "from langgraph.graph import StateGraph, START, END\n",
    "from dataclasses import dataclass\n",
    "from typing import Literal\n",
    "# from langchain_core.runnables.graph import MermaidDrawMethod"
   ]
  },
  {
   "cell_type": "code",
   "execution_count": null,
   "metadata": {},
   "outputs": [],
   "source": [
    "@dataclass\n",
    "class MovieState:\n",
    "    movie_name:str\n",
    "    movie_type: Literal[\"Comedy\",\"Action\"]"
   ]
  },
  {
   "cell_type": "code",
   "execution_count": null,
   "metadata": {},
   "outputs": [],
   "source": [
    "def node_1(state: MovieState):\n",
    "    print(\"---Node 1---\")\n",
    "    return {\"name\": state.movie_name + \" is ... \"}\n",
    "\n",
    "def node_2(state: MovieState):\n",
    "    print(\"---Node 2---\")\n",
    "    return {\"mvie_type\": \"comedy\"}\n",
    "\n",
    "def node_3(state: MovieState):\n",
    "    print(\"---Node 3---\")\n",
    "    return {\"movie_type\": \"action\"}\n",
    "\n",
    "def display_movie_type(state) -> Literal[\"node_2\", \"node_3\"]:\n",
    "    if state.movie_type == \"laugh\":\n",
    "        return \"node_2\"\n",
    "    return \"node_3\""
   ]
  },
  {
   "cell_type": "code",
   "execution_count": null,
   "metadata": {},
   "outputs": [],
   "source": [
    "# Build graph\n",
    "# Add logging to track execution order\n",
    "builder = StateGraph(MovieState)\n",
    "\n",
    "builder.add_node(\"node_1\", node_1)\n",
    "builder.add_node(\"node_2\", node_2)  \n",
    "builder.add_node(\"node_3\", node_3)\n",
    "\n",
    "builder.add_edge(START, \"node_1\")\n",
    "builder.add_conditional_edges(\"node_1\", display_movie_type) \n",
    "builder.add_edge(\"node_2\", END)\n",
    "builder.add_edge(\"node_3\", END)\n",
    "\n",
    "graph = builder.compile()\n",
    "result = graph.invoke(MovieState(movie_name=\"Mr.Bean\", movie_type=\"laugh\"))\n",
    "# result = graph.invoke(MovieState(movie_name=\"Pushpa\", movie_type=\"action\"))\n",
    "print(result)\n",
    "\n",
    "# View graph visualization to see node connections\n",
    "# display(Image(graph.get_graph().draw_mermaid_png()))\n",
    "\n",
    "# Show\n",
    "# display(\n",
    "#     Image(\n",
    "#         graph.get_graph().draw_mermaid_png(\n",
    "#             draw_method=MermaidDrawMethod.API,\n",
    "#         )\n",
    "#     )\n",
    "# )\n"
   ]
  }
 ],
 "metadata": {
  "kernelspec": {
   "display_name": ".venv",
   "language": "python",
   "name": "python3"
  },
  "language_info": {
   "codemirror_mode": {
    "name": "ipython",
    "version": 3
   },
   "file_extension": ".py",
   "mimetype": "text/x-python",
   "name": "python",
   "nbconvert_exporter": "python",
   "pygments_lexer": "ipython3",
   "version": "3.13.1"
  }
 },
 "nbformat": 4,
 "nbformat_minor": 2
}
